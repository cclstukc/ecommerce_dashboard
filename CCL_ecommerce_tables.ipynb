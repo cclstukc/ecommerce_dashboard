{
 "cells": [
  {
   "cell_type": "code",
   "execution_count": 15,
   "metadata": {},
   "outputs": [],
   "source": [
    "import pandas as pd\n",
    "import sqlite3"
   ]
  },
  {
   "cell_type": "code",
   "execution_count": 16,
   "metadata": {},
   "outputs": [
    {
     "name": "stdout",
     "output_type": "stream",
     "text": [
      "Connected to SQLite\n"
     ]
    }
   ],
   "source": [
    "sqliteConnection = sqlite3.connect('CCL_ecommerce.db')\n",
    "print(\"Connected to SQLite\")"
   ]
  },
  {
   "cell_type": "code",
   "execution_count": 17,
   "metadata": {},
   "outputs": [],
   "source": [
    "cursor = sqliteConnection.cursor()"
   ]
  },
  {
   "cell_type": "code",
   "execution_count": 18,
   "metadata": {},
   "outputs": [
    {
     "data": {
      "text/plain": [
       "<sqlite3.Cursor at 0x1140bf640>"
      ]
     },
     "execution_count": 18,
     "metadata": {},
     "output_type": "execute_result"
    }
   ],
   "source": [
    "sql_query = \"\"\"SELECT name FROM sqlite_master  \n",
    "  WHERE type='table';\"\"\"\n",
    "cursor.execute(sql_query)"
   ]
  },
  {
   "cell_type": "code",
   "execution_count": 19,
   "metadata": {},
   "outputs": [],
   "source": [
    "tables = cursor.execute(sql_query).fetchall()"
   ]
  },
  {
   "cell_type": "code",
   "execution_count": 20,
   "metadata": {},
   "outputs": [
    {
     "name": "stdout",
     "output_type": "stream",
     "text": [
      "[('users',), ('product_categories',), ('payment_methods',), ('addresses',), ('products',), ('orders',), ('stock_level',), ('order_details',), ('payments',)]\n"
     ]
    }
   ],
   "source": [
    "print(tables)"
   ]
  },
  {
   "cell_type": "code",
   "execution_count": 21,
   "metadata": {},
   "outputs": [
    {
     "name": "stdout",
     "output_type": "stream",
     "text": [
      "users\n",
      "\tuser_id\n",
      "\tfirst_name\n",
      "\tlast_name\n",
      "\temail\n",
      "\tpassword\n",
      "\n",
      "product_categories\n",
      "\tcategory_id\n",
      "\tcategory_name\n",
      "\n",
      "payment_methods\n",
      "\tmethod_id\n",
      "\tmethod_name\n",
      "\n",
      "addresses\n",
      "\taddress_id\n",
      "\tuser_id\n",
      "\taddress_line1\n",
      "\tcity\n",
      "\tcountry\n",
      "\tpostcode\n",
      "\taddress_type\n",
      "\n",
      "products\n",
      "\tproduct_id\n",
      "\tcategory_id\n",
      "\tproduct_name\n",
      "\tdescription\n",
      "\tprice\n",
      "\n",
      "orders\n",
      "\torder_id\n",
      "\tuser_id\n",
      "\torder_date\n",
      "\n",
      "stock_level\n",
      "\tstock_id\n",
      "\tproduct_id\n",
      "\tquantity\n",
      "\n",
      "order_details\n",
      "\torder_detail_id\n",
      "\torder_id\n",
      "\tproduct_id\n",
      "\tquantity_ordered\n",
      "\tprice_at_time\n",
      "\n",
      "payments\n",
      "\tpayment_id\n",
      "\torder_id\n",
      "\tmethod_id\n",
      "\tamount\n",
      "\tpayment_date\n",
      "\n"
     ]
    }
   ],
   "source": [
    "for table_name in tables:\n",
    "    table_name = table_name[0] # tables is a list of single item tuples\n",
    "    table = pd.read_sql_query(\"SELECT * from {} LIMIT 0\".format(table_name), sqliteConnection)\n",
    "    print(table_name)\n",
    "    for col in table.columns:\n",
    "        print('\\t' + col)\n",
    "    print()"
   ]
  }
 ],
 "metadata": {
  "kernelspec": {
   "display_name": "testenv1",
   "language": "python",
   "name": "python3"
  },
  "language_info": {
   "codemirror_mode": {
    "name": "ipython",
    "version": 3
   },
   "file_extension": ".py",
   "mimetype": "text/x-python",
   "name": "python",
   "nbconvert_exporter": "python",
   "pygments_lexer": "ipython3",
   "version": "3.12.0"
  }
 },
 "nbformat": 4,
 "nbformat_minor": 2
}
